{
 "cells": [
  {
   "cell_type": "markdown",
   "metadata": {},
   "source": [
    "# Analyzing results"
   ]
  },
  {
   "cell_type": "markdown",
   "metadata": {},
   "source": [
    "We will use python and this jupyter notebook to plot and analyze the results obtained from the\n",
    "fortran source code."
   ]
  },
  {
   "cell_type": "markdown",
   "metadata": {},
   "source": [
    "## Plotting results\n",
    "\n",
    "For this we will use the `numpy` and `matplotlib.pyplot` packages"
   ]
  },
  {
   "cell_type": "code",
   "execution_count": null,
   "metadata": {},
   "outputs": [],
   "source": [
    "# Importing numpy and matplotlib\n",
    "import numpy as np \n",
    "import matplotlib.pyplot as plt"
   ]
  },
  {
   "cell_type": "markdown",
   "metadata": {},
   "source": [
    "Different styles are predefined that give different appearance to the plots. This one emulates the style of the figures you'll find on statisical analysis news site fivethirtyeight.com"
   ]
  },
  {
   "cell_type": "code",
   "execution_count": null,
   "metadata": {},
   "outputs": [],
   "source": [
    "plt.style.use('fivethirtyeight')"
   ]
  },
  {
   "cell_type": "code",
   "execution_count": null,
   "metadata": {},
   "outputs": [],
   "source": [
    "# reading data stored in results_basic.dat\n",
    "\n",
    "file_name = 'results_basic.dat'\n",
    "\n",
    "# loadtxt reads all the data in a file and stores them in an array (assuming it's all floats)\n",
    "# we use skiprows=1 to avoid the header\n",
    "all_data = np.loadtxt(file_name,skiprows=1)\n",
    "\n",
    "# We transpose the array in order to be able to extract each column individually\n",
    "all_data = all_data.transpose()\n",
    "x_0 = all_data[0]\n",
    "booles = all_data[1]\n",
    "large_x0 = all_data[2]\n",
    "monte_carlo = all_data[3]\n",
    "monte_carlo_error = all_data[4]\n",
    "# Each one of these is a numpy array that contains one of the columns in the results_basic.dat file.\n",
    "# This will allow us to make operations on the extracted data"
   ]
  },
  {
   "cell_type": "markdown",
   "metadata": {},
   "source": [
    "### Comparing Boole's quadrature and large $x_0$ approximation"
   ]
  },
  {
   "cell_type": "code",
   "execution_count": null,
   "metadata": {},
   "outputs": [],
   "source": [
    "# The plot function can take two equally sized arrays,\n",
    "# taking the first one as the x coordinates and the second one as the y coordinates\n",
    "plt.plot(x_0, booles, label = \"Boole's quadrature\")\n",
    "plt.plot(x_0, large_x0, label =' Large $x_0$ approximation')\n",
    "\n",
    "plt.xlabel('x coordinate of the detector $x_0$')\n",
    "plt.ylabel('total neutron flux')\n",
    "# legend displays the labels given in each plot\n",
    "plt.legend()\n",
    "plt.show()"
   ]
  },
  {
   "cell_type": "markdown",
   "metadata": {},
   "source": [
    "When are the Boole's quadrature and the large $x_0$ results similar and when are they different?\n",
    "\n",
    "Where do the results start to diverge, and why? \n",
    "\n",
    "Provivde your answers in the cell bellow"
   ]
  },
  {
   "cell_type": "markdown",
   "metadata": {},
   "source": [
    "They are similar as the x coordinate of the detector $x_0$ gets very large. The results diverge for x from 0 to 75 as the $x0$ approaches zero. This happens because the large approximation treats the reactor as a point source when it is far away and as $x0$ gets closer to zero it needs to treats the detector as a volume resulting in different calculations."
   ]
  },
  {
   "cell_type": "markdown",
   "metadata": {},
   "source": [
    "### Comparing Boole's quadrature and Monte Carlo integration"
   ]
  },
  {
   "cell_type": "code",
   "execution_count": null,
   "metadata": {},
   "outputs": [],
   "source": [
    "plt.plot(x_0, booles, label = \"Boole's\")\n",
    "plt.plot(x_0, monte_carlo, label = 'Monte Carlo')\n",
    "plt.xlabel('x coordinate of the detector $x_0$')\n",
    "plt.ylabel('total neutron flux')\n",
    "plt.legend()\n",
    "plt.show()"
   ]
  },
  {
   "cell_type": "markdown",
   "metadata": {},
   "source": [
    "Do you see any siginifant differences between both methods? To get a clearer picture let's plot their difference and compare it with the estimate of the statistical uncertainty"
   ]
  },
  {
   "cell_type": "code",
   "execution_count": null,
   "metadata": {},
   "outputs": [],
   "source": [
    "# Operations between arrays of the same size are applied element-wise\n",
    "quadrature_difference = np.absolute(booles - monte_carlo)"
   ]
  },
  {
   "cell_type": "code",
   "execution_count": null,
   "metadata": {},
   "outputs": [],
   "source": [
    "plt.plot(x_0, quadrature_difference, label = r'$|F_{\\rm Booles} - F_{\\rm MC}|$')\n",
    "plt.plot(x_0, monte_carlo_error, label = r'$\\sigma_{F_{\\rm MC}}$')\n",
    "plt.xlabel('x coordinate of the detector $x_0$')\n",
    "plt.ylabel('Integration error')\n",
    "plt.legend()\n",
    "plt.show()"
   ]
  },
  {
   "cell_type": "markdown",
   "metadata": {},
   "source": [
    "How does the difference between both methods compares to the estimate in the uncertainty?\n",
    "\n",
    "Are they about the same size or is one significantly larger than the other?\n",
    "\n",
    "Is the difference between the Boole's and Monte Carlo methods always smaller than the Monte Carlo error? Yes, No? \n",
    "Explain why in the cell bello"
   ]
  },
  {
   "cell_type": "markdown",
   "metadata": {},
   "source": [
    "The Monte Carlo error is signifigantly larger than the Booles error when x goes from 0 to 50. The Monte Carlo error equals the Booles error as x is greater than 100. The reason for the large error in the Monte Carlo calculation is because it is taking sample points inside a volume. When the detector is close to the reactor, the randomness of the points has a large effect the outcome, but as x gets further away from the volume the difference of location of the data points makes less of an impact on the overall flux."
   ]
  },
  {
   "cell_type": "markdown",
   "metadata": {},
   "source": [
    "## Advanced part of the project"
   ]
  },
  {
   "cell_type": "markdown",
   "metadata": {},
   "source": [
    "### Reading the data from results file"
   ]
  },
  {
   "cell_type": "code",
   "execution_count": null,
   "metadata": {},
   "outputs": [],
   "source": [
    "# reading data stored in results_advanced.dat\n",
    "# reading data stored in results_basic.dat\n",
    "\n",
    "file_name = 'results_advanced.dat'\n",
    "\n",
    "# loadtxt reads all the data in a file and stores them in an array (assuming it's all floats)\n",
    "# we use skiprows=1 to avoid the header\n",
    "all_data = np.loadtxt(file_name,skiprows=1)\n",
    "\n",
    "# We transpose the array in order to be able to extract each column individually\n",
    "all_data = all_data.transpose()\n",
    "radius = all_data[0]\n",
    "box_booles = all_data[1]\n",
    "hollow_booles = all_data[2]\n",
    "hollow_mc = all_data[3]\n",
    "hollow_mc_error = all_data[4]\n",
    "# Each one of these is a numpy array that contains one of the columns in the results_advanced.dat file.\n",
    "# This will allow us to make operations on the extracted data"
   ]
  },
  {
   "cell_type": "markdown",
   "metadata": {},
   "source": [
    "### Comparing Boole's and Monte Carlo when there's a hollow sphere inside the reactor"
   ]
  },
  {
   "cell_type": "code",
   "execution_count": null,
   "metadata": {},
   "outputs": [],
   "source": [
    "# plot Boole's result, Monte Carlo result and the Solid box with booles method\n",
    "# as a function of the sphere's radius here\n",
    "#plt.plot(radius, box_booles, label = \"Box Boole's\")\n",
    "plt.plot(radius, hollow_booles, label = \"Hollow Boole's\")\n",
    "plt.plot(radius, hollow_mc, label = 'Hollow Monte Carlo')\n",
    "plt.xlabel('radius of hollow sphere $r$')\n",
    "plt.ylabel('total neutron flux')\n",
    "plt.legend()\n",
    "plt.show()\n",
    "\n",
    "# you should know how to do this by now"
   ]
  },
  {
   "cell_type": "markdown",
   "metadata": {},
   "source": [
    "Do the results of Boole's and Monte Carlo methods approach the solid reactor case when the radius of the hollow sphere get's small? Yes? No? Explain why in the cell bellow"
   ]
  },
  {
   "cell_type": "markdown",
   "metadata": {},
   "source": [
    "Yes, the results of the Boole's and Monte Carlo methods approach the solid reactor case when the radius of the hollow sphere get's small. This is because as the sphere's radius gets very close to zero the sphere would almost have no impact on the flux calculations which would resemble the solid box approximations."
   ]
  },
  {
   "cell_type": "markdown",
   "metadata": {},
   "source": [
    "Finally, let's plot the difference between both methods and compare it with the error estimate "
   ]
  },
  {
   "cell_type": "code",
   "execution_count": null,
   "metadata": {},
   "outputs": [],
   "source": [
    "# Operations between arrays of the same size are applied element-wise\n",
    "hollow_quadrature_difference = np.absolute(hollow_booles - hollow_mc)"
   ]
  },
  {
   "cell_type": "code",
   "execution_count": null,
   "metadata": {},
   "outputs": [],
   "source": [
    "plt.plot(radius, hollow_quadrature_difference, label = r'$|F_{\\rm Hollow Booles} - F_{\\rm Hollow MC}|$')\n",
    "plt.plot(radius, hollow_mc_error, label = r'$\\sigma_{F_{\\rm Hollow MC}}$')\n",
    "plt.xlabel('radius of hollow sphere $r$')\n",
    "plt.ylabel('Integration error')\n",
    "plt.legend()\n",
    "plt.show()"
   ]
  },
  {
   "cell_type": "markdown",
   "metadata": {},
   "source": [
    "If your calculation is correct the error in the Monte Carlo method should increase as the hollow sphere's radius increases. Can you explain why?"
   ]
  },
  {
   "cell_type": "markdown",
   "metadata": {},
   "source": [
    "The reason the Monte Carlo's error increases is because the program is set to exclude any data points within the sphere inside the box. Which means the larger the sphere the less data points you have to work with and this would lead to more error in the computation."
   ]
  },
  {
   "cell_type": "code",
   "execution_count": null,
   "metadata": {},
   "outputs": [],
   "source": []
  }
 ],
 "metadata": {
  "kernelspec": {
   "display_name": "Python 3",
   "language": "python",
   "name": "python3"
  },
  "language_info": {
   "codemirror_mode": {
    "name": "ipython",
    "version": 3
   },
   "file_extension": ".py",
   "mimetype": "text/x-python",
   "name": "python",
   "nbconvert_exporter": "python",
   "pygments_lexer": "ipython3",
   "version": "3.7.6"
  }
 },
 "nbformat": 4,
 "nbformat_minor": 2
}
